{
 "cells": [
  {
   "cell_type": "code",
   "execution_count": 3,
   "id": "c592b40b-c44c-46bb-9f6d-084ef65fab75",
   "metadata": {},
   "outputs": [
    {
     "name": "stdout",
     "output_type": "stream",
     "text": [
      "Requirement already satisfied: npm in e:\\program files\\anaconda\\lib\\site-packages (0.1.1)\n",
      "Requirement already satisfied: optional-django==0.1.0 in e:\\program files\\anaconda\\lib\\site-packages (from npm) (0.1.0)\n"
     ]
    }
   ],
   "source": [
    "!pip install npm"
   ]
  },
  {
   "cell_type": "code",
   "execution_count": 2,
   "id": "5e16cc41-2b00-4736-84b3-46a2ebb3edb6",
   "metadata": {},
   "outputs": [
    {
     "name": "stderr",
     "output_type": "stream",
     "text": [
      "ERROR: Invalid requirement: '=='\n"
     ]
    }
   ],
   "source": [
    "!pip install Node.js == 0.1.1"
   ]
  },
  {
   "cell_type": "code",
   "execution_count": 4,
   "id": "4b1e4114-4e27-4d25-8569-c7062813bb44",
   "metadata": {},
   "outputs": [
    {
     "ename": "SyntaxError",
     "evalue": "invalid syntax (CreatorTemp/ipykernel_2860/2485743006.py, line 1)",
     "output_type": "error",
     "traceback": [
      "\u001b[1;36m  File \u001b[1;32m\"C:\\Users\\Public\\Documents\\Wondershare\\CreatorTemp/ipykernel_2860/2485743006.py\"\u001b[1;36m, line \u001b[1;32m1\u001b[0m\n\u001b[1;33m    jupyter lab build\u001b[0m\n\u001b[1;37m            ^\u001b[0m\n\u001b[1;31mSyntaxError\u001b[0m\u001b[1;31m:\u001b[0m invalid syntax\n"
     ]
    }
   ],
   "source": [
    "jupyter lab build"
   ]
  },
  {
   "cell_type": "code",
   "execution_count": 8,
   "id": "00ae49be-db72-4500-b2ae-86e58a8a4089",
   "metadata": {},
   "outputs": [],
   "source": [
    "import pandas"
   ]
  },
  {
   "cell_type": "code",
   "execution_count": 9,
   "id": "613b4253-36e9-4c13-93ad-f872c58880cf",
   "metadata": {},
   "outputs": [
    {
     "data": {
      "text/plain": [
       "'1.3.4'"
      ]
     },
     "execution_count": 9,
     "metadata": {},
     "output_type": "execute_result"
    }
   ],
   "source": [
    "pandas.__version__"
   ]
  },
  {
   "cell_type": "code",
   "execution_count": null,
   "id": "a88a996c-d4a1-47a4-8de9-9de8bab739e5",
   "metadata": {},
   "outputs": [],
   "source": []
  }
 ],
 "metadata": {
  "kernelspec": {
   "display_name": "Python 3 (ipykernel)",
   "language": "python",
   "name": "python3"
  },
  "language_info": {
   "codemirror_mode": {
    "name": "ipython",
    "version": 3
   },
   "file_extension": ".py",
   "mimetype": "text/x-python",
   "name": "python",
   "nbconvert_exporter": "python",
   "pygments_lexer": "ipython3",
   "version": "3.9.7"
  }
 },
 "nbformat": 4,
 "nbformat_minor": 5
}
